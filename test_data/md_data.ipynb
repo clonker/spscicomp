{
 "metadata": {
  "name": "",
  "signature": "sha256:96e38b7dbd9a1e9d27be8a7bdb7d2438dc900b5121be1ae8b0ad0ec46fa56b6d"
 },
 "nbformat": 3,
 "nbformat_minor": 0,
 "worksheets": [
  {
   "cells": [
    {
     "cell_type": "code",
     "collapsed": false,
     "input": [
      "# numerics\n",
      "import scipy.linalg\n",
      "import numpy as np\n",
      "\n",
      "# mdtraj for MD trajectory reading and manipulation\n",
      "import mdtraj as md\n",
      "\n",
      "# plotting\n",
      "import matplotlib.pyplot as plt\n",
      "%pylab inline"
     ],
     "language": "python",
     "metadata": {},
     "outputs": [
      {
       "output_type": "stream",
       "stream": "stdout",
       "text": [
        "Populating the interactive namespace from numpy and matplotlib\n"
       ]
      }
     ],
     "prompt_number": 108
    },
    {
     "cell_type": "markdown",
     "metadata": {},
     "source": [
      "TICA\n",
      "----"
     ]
    },
    {
     "cell_type": "code",
     "collapsed": false,
     "input": [
      "def its_tica(X, lags):\n",
      "    # mean free\n",
      "    X_meanfree = X - np.mean(X, axis=0)\n",
      "\n",
      "    # inst. covariance matrix\n",
      "    C0 = np.dot(X_meanfree.transpose(), X_meanfree)\n",
      "\n",
      "    # TICA and ITS\n",
      "    its = numpy.zeros((4,len(lags)))\n",
      "    for i in range(len(lags)):\n",
      "        lag = lags[i]\n",
      "        Ctau = np.dot(X_meanfree[0:(L-lag)].transpose(), X_meanfree[lag:L])\n",
      "        Ctau = 0.5 * (Ctau.transpose() + Ctau)\n",
      "        # EV-Problem\n",
      "        l, R = scipy.linalg.eig(Ctau, C0)\n",
      "        l = numpy.sort(numpy.abs(l))[::-1]    \n",
      "        # compute ts\n",
      "        tau = 0.25 * lag\n",
      "        t = (-tau * 1.0/numpy.log(l))[0:4]\n",
      "        its[:,i] = t\n",
      "        \n",
      "    return its"
     ],
     "language": "python",
     "metadata": {},
     "outputs": [],
     "prompt_number": 113
    },
    {
     "cell_type": "markdown",
     "metadata": {},
     "source": [
      "Load trajectory and save as memmap\n",
      "-----"
     ]
    },
    {
     "cell_type": "code",
     "collapsed": false,
     "input": [
      "# load trajectory with mdtraj.\n",
      "# note: in general you cannot load everything at one time. Use chunk loader or iterator provided by mdtraj\n",
      "bpti_traj = md.load('/Users/noe/Dropbox/data/spscicom/bpti_trajectory_data/all.xtc', \n",
      "                    top='/Users/noe/Dropbox/data/spscicom/bpti_trajectory_data/bpti-c-alpha.pdb')"
     ],
     "language": "python",
     "metadata": {},
     "outputs": []
    },
    {
     "cell_type": "code",
     "collapsed": false,
     "input": [
      "data_flat = numpy.reshape(bpti_traj.xyz, (bpti_traj.xyz.shape[0], bpti_traj.xyz.shape[1]*bpti_traj.xyz.shape[2]))\n",
      "data_flat.shape\n",
      "L = data_flat.shape[0]"
     ],
     "language": "python",
     "metadata": {},
     "outputs": [
      {
       "metadata": {},
       "output_type": "pyout",
       "prompt_number": 103,
       "text": [
        "(4124963, 174)"
       ]
      }
     ],
     "prompt_number": 103
    },
    {
     "cell_type": "code",
     "collapsed": false,
     "input": [
      "# here we play around with memmaps. There are probably better ways of doing this, \n",
      "# e.g. using hdf5 (h5py) to load data in slices\n",
      "fp = np.memmap(\"./bpti.dat\", dtype='float32', mode='w+', shape=data_flat.shape)\n",
      "fp[:,:] = data_flat[:,:]\n",
      "del fp"
     ],
     "language": "python",
     "metadata": {},
     "outputs": [],
     "prompt_number": 104
    },
    {
     "cell_type": "markdown",
     "metadata": {},
     "source": [
      "Load again and run tica\n",
      "-----"
     ]
    },
    {
     "cell_type": "code",
     "collapsed": false,
     "input": [
      "# I'm not sure if this operation is at all efficient with memmaps, because we multiply X^T X, \n",
      "# so we slice by columns and by rows. On my machine (FN) it was fast, but perhaps because everything\n",
      "# could be loaded into memory.\n",
      "newfp = np.memmap(\"./bpti.dat\", dtype='float32', mode='r', shape=data_flat.shape)\n",
      "lags = [1, 2, 5, 10, 20, 50, 100, 200, 500, 1000, 2000, 5000,10000,20000,50000,100000,200000,500000]\n",
      "its = its_tica(newfp, lags)"
     ],
     "language": "python",
     "metadata": {},
     "outputs": [],
     "prompt_number": 114
    },
    {
     "cell_type": "code",
     "collapsed": false,
     "input": [
      "plot(lags,its[0])\n",
      "plot(lags,its[1])\n",
      "plot(lags,its[2])\n",
      "semilogy()"
     ],
     "language": "python",
     "metadata": {},
     "outputs": [
      {
       "metadata": {},
       "output_type": "pyout",
       "prompt_number": 117,
       "text": [
        "[]"
       ]
      },
      {
       "metadata": {},
       "output_type": "display_data",
       "png": "[encoded data removed]",
       "text": [
        "<matplotlib.figure.Figure at 0x11dc40fd0>"
       ]
      }
     ],
     "prompt_number": 117
    },
    {
     "cell_type": "code",
     "collapsed": false,
     "input": [],
     "language": "python",
     "metadata": {},
     "outputs": []
    }
   ],
   "metadata": {}
  }
 ]
}